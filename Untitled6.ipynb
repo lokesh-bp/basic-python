{
  "nbformat": 4,
  "nbformat_minor": 0,
  "metadata": {
    "colab": {
      "name": "Untitled6.ipynb",
      "version": "0.3.2",
      "provenance": [],
      "collapsed_sections": [],
      "include_colab_link": true
    },
    "kernelspec": {
      "name": "python3",
      "display_name": "Python 3"
    }
  },
  "cells": [
    {
      "cell_type": "markdown",
      "metadata": {
        "id": "view-in-github",
        "colab_type": "text"
      },
      "source": [
        "<a href=\"https://colab.research.google.com/github/lokesh-bp/basic-python/blob/master/Untitled6.ipynb\" target=\"_parent\"><img src=\"https://colab.research.google.com/assets/colab-badge.svg\" alt=\"Open In Colab\"/></a>"
      ]
    },
    {
      "cell_type": "code",
      "metadata": {
        "id": "SVh4eX-BGznz",
        "colab_type": "code",
        "colab": {}
      },
      "source": [
        "import numpy as np\n",
        "import keras\n",
        "import matplotlib.pyplot as plt\n",
        "from keras.datasets import mnist\n",
        "from keras.models import Sequential\n",
        "from keras.layers import Dense, Dropout\n",
        "from keras.optimizers import RMSprop\n",
        "from keras.utils import to_categorical\n"
      ],
      "execution_count": 0,
      "outputs": []
    },
    {
      "cell_type": "code",
      "metadata": {
        "id": "_OxBBLq8HLN1",
        "colab_type": "code",
        "colab": {
          "base_uri": "https://localhost:8080/",
          "height": 51
        },
        "outputId": "4ef9ed74-eee4-4d12-ad84-946eebf48464"
      },
      "source": [
        "batch_size=128\n",
        "num_classes=10\n",
        "epochs=20\n",
        "(x_train,y_train),(x_test,y_test)=mnist.load_data()"
      ],
      "execution_count": 3,
      "outputs": [
        {
          "output_type": "stream",
          "text": [
            "Downloading data from https://s3.amazonaws.com/img-datasets/mnist.npz\n",
            "11493376/11490434 [==============================] - 0s 0us/step\n"
          ],
          "name": "stdout"
        }
      ]
    },
    {
      "cell_type": "code",
      "metadata": {
        "id": "saYSZrMkR5oB",
        "colab_type": "code",
        "colab": {
          "base_uri": "https://localhost:8080/",
          "height": 102
        },
        "outputId": "a2ee4fd8-132d-4764-c99d-e475191fc471"
      },
      "source": [
        "print('Training data shape:',x_train.shape,x_train.shape)\n",
        "print('Testing data shape:',x_test.shape,x_test.shape)\n",
        "print('_'*55)\n",
        "classes=np.unique(y_train)\n",
        "nclasses=len(classes)\n",
        "print('Total number of output:',nclasses)\n",
        "print('Output classes:',classes)"
      ],
      "execution_count": 4,
      "outputs": [
        {
          "output_type": "stream",
          "text": [
            "Training data shape: (60000, 28, 28) (60000, 28, 28)\n",
            "Testing data shape: (10000, 28, 28) (10000, 28, 28)\n",
            "_______________________________________________________\n",
            "Total number of output: 10\n",
            "Output classes: [0 1 2 3 4 5 6 7 8 9]\n"
          ],
          "name": "stdout"
        }
      ]
    },
    {
      "cell_type": "code",
      "metadata": {
        "id": "Ai2bo1RKU1eq",
        "colab_type": "code",
        "colab": {
          "base_uri": "https://localhost:8080/",
          "height": 318
        },
        "outputId": "5a47d6b3-b94e-4f46-aa62-ff6feb47fbe2"
      },
      "source": [
        "plt.figure(figsize=[10,5])\n",
        "-plt.subplot(121)\n",
        "plt.imshow(x_train[0,:,:],cmap='gray')\n",
        "plt.title(\"Ground Truth: {}\".format(y_train[0]))\n",
        "plt.subplot(122)\n",
        "plt.imshow(x_test[0,:,:],cmap='gray')\n",
        "plt.title(\"ground truth:{}\".format(y_test[0]))\n",
        "plt.show()"
      ],
      "execution_count": 11,
      "outputs": [
        {
          "output_type": "display_data",
          "data": {
            "image/png": "[encoded data removed]",
            "text/plain": [
              "<Figure size 720x360 with 2 Axes>"
            ]
          },
          "metadata": {
            "tags": []
          }
        }
      ]
    },
    {
      "cell_type": "code",
      "metadata": {
        "id": "WTn6KXYLXJpB",
        "colab_type": "code",
        "colab": {}
      },
      "source": [
        "x_train=x_train.reshape(60000,784)\n",
        "x_test=x_test.reshape(10000,784)\n"
      ],
      "execution_count": 0,
      "outputs": []
    },
    {
      "cell_type": "code",
      "metadata": {
        "id": "tXjohSZkj_a2",
        "colab_type": "code",
        "colab": {
          "base_uri": "https://localhost:8080/",
          "height": 51
        },
        "outputId": "b6843736-12cd-4250-8f6d-2c869b4c8607"
      },
      "source": [
        "x_train=x_train.astype('float32')\n",
        "x_test=x_test.astype('float32')\n",
        "x_train/=255\n",
        "x_test/=255\n",
        "print(x_train.shape[0],'train samples')\n",
        "print(x_test.shape[0],'test sample')"
      ],
      "execution_count": 13,
      "outputs": [
        {
          "output_type": "stream",
          "text": [
            "60000 train samples\n",
            "10000 test sample\n"
          ],
          "name": "stdout"
        }
      ]
    },
    {
      "cell_type": "code",
      "metadata": {
        "id": "OvbqQYdrks2G",
        "colab_type": "code",
        "colab": {
          "base_uri": "https://localhost:8080/",
          "height": 51
        },
        "outputId": "9f2d0b69-8ed0-45e3-ea55-86a434ffd9d4"
      },
      "source": [
        "print('original label 0:',y_train[0])\n",
        "y_train=keras.utils.to_categorical(y_train,num_classes)\n",
        "y_test=keras.utils.to_categorical(y_test,num_classes)\n",
        "print(\"after conversion to categorical(one-hot):\",y_train[0])\n"
      ],
      "execution_count": 14,
      "outputs": [
        {
          "output_type": "stream",
          "text": [
            "original label 0: 5\n",
            "after conversion to categorical(one-hot): [0. 0. 0. 0. 0. 1. 0. 0. 0. 0.]\n"
          ],
          "name": "stdout"
        }
      ]
    },
    {
      "cell_type": "code",
      "metadata": {
        "id": "GoW0RePAoDVL",
        "colab_type": "code",
        "colab": {
          "base_uri": "https://localhost:8080/",
          "height": 306
        },
        "outputId": "1f5fc024-1f82-4a96-e09a-b27229fb34cc"
      },
      "source": [
        "model=Sequential()\n",
        "model.add(Dense(512,activation='relu',input_shape=(784,)))\n",
        "model.add(Dropout(0,2))\n",
        "model.add(Dense(512,activation='relu'))\n",
        "model.add(Dropout(0,2))\n",
        "model.add(Dense(num_classes,activation='softmax'))\n",
        "model.summary()"
      ],
      "execution_count": 16,
      "outputs": [
        {
          "output_type": "stream",
          "text": [
            "_________________________________________________________________\n",
            "Layer (type)                 Output Shape              Param #   \n",
            "=================================================================\n",
            "dense_4 (Dense)              (None, 512)               401920    \n",
            "_________________________________________________________________\n",
            "dropout_3 (Dropout)          (None, 512)               0         \n",
            "_________________________________________________________________\n",
            "dense_5 (Dense)              (None, 512)               262656    \n",
            "_________________________________________________________________\n",
            "dropout_4 (Dropout)          (None, 512)               0         \n",
            "_________________________________________________________________\n",
            "dense_6 (Dense)              (None, 10)                5130      \n",
            "=================================================================\n",
            "Total params: 669,706\n",
            "Trainable params: 669,706\n",
            "Non-trainable params: 0\n",
            "_________________________________________________________________\n"
          ],
          "name": "stdout"
        }
      ]
    },
    {
      "cell_type": "code",
      "metadata": {
        "id": "7zZu19jZsdZw",
        "colab_type": "code",
        "colab": {}
      },
      "source": [
        "model.compile(loss='categorical_crossentropy',\n",
        "              optimizer='rmsprop',\n",
        "              metrics=['accuracy'])"
      ],
      "execution_count": 0,
      "outputs": []
    },
    {
      "cell_type": "code",
      "metadata": {
        "id": "Fg0JVqsfuXzU",
        "colab_type": "code",
        "colab": {
          "base_uri": "https://localhost:8080/",
          "height": 649
        },
        "outputId": "431d812f-10e2-4c96-cdaf-053e02e9279a"
      },
      "source": [
        "history = model.fit(x_train, y_train,\n",
        "                    batch_size=batch_size,\n",
        "                    epochs=epochs,\n",
        "                    verbose=1,\n",
        "                    validation_data=(x_test, y_test))"
      ],
      "execution_count": 18,
      "outputs": [
        {
          "output_type": "stream",
          "text": [
            "WARNING:tensorflow:From /usr/local/lib/python3.6/dist-packages/tensorflow/python/ops/math_ops.py:3066: to_int32 (from tensorflow.python.ops.math_ops) is deprecated and will be removed in a future version.\n",
            "Instructions for updating:\n",
            "Use tf.cast instead.\n",
            "Train on 60000 samples, validate on 10000 samples\n",
            "Epoch 1/20\n",
            "60000/60000 [==============================] - 8s 136us/step - loss: 0.2183 - acc: 0.9327 - val_loss: 0.0996 - val_acc: 0.9684\n",
            "Epoch 2/20\n",
            "60000/60000 [==============================] - 8s 125us/step - loss: 0.0814 - acc: 0.9750 - val_loss: 0.0809 - val_acc: 0.9756\n",
            "Epoch 3/20\n",
            "60000/60000 [==============================] - 7s 125us/step - loss: 0.0529 - acc: 0.9836 - val_loss: 0.0858 - val_acc: 0.9760\n",
            "Epoch 4/20\n",
            "60000/60000 [==============================] - 7s 123us/step - loss: 0.0386 - acc: 0.9882 - val_loss: 0.0807 - val_acc: 0.9791\n",
            "Epoch 5/20\n",
            "60000/60000 [==============================] - 7s 121us/step - loss: 0.0287 - acc: 0.9909 - val_loss: 0.1037 - val_acc: 0.9739\n",
            "Epoch 6/20\n",
            "60000/60000 [==============================] - 7s 122us/step - loss: 0.0235 - acc: 0.9926 - val_loss: 0.0716 - val_acc: 0.9828\n",
            "Epoch 7/20\n",
            "60000/60000 [==============================] - 8s 128us/step - loss: 0.0117 - acc: 0.9963 - val_loss: 0.1006 - val_acc: 0.9822\n",
            "Epoch 12/20\n",
            "60000/60000 [==============================] - 8s 126us/step - loss: 0.0089 - acc: 0.9973 - val_loss: 0.1182 - val_acc: 0.9819\n",
            "Epoch 13/20\n",
            "60000/60000 [==============================] - 8s 126us/step - loss: 0.0075 - acc: 0.9979 - val_loss: 0.1253 - val_acc: 0.9801\n",
            "Epoch 14/20\n",
            "60000/60000 [==============================] - 8s 126us/step - loss: 0.0071 - acc: 0.9980 - val_loss: 0.1308 - val_acc: 0.9806\n",
            "Epoch 15/20\n",
            "60000/60000 [==============================] - 7s 124us/step - loss: 0.0073 - acc: 0.9977 - val_loss: 0.1156 - val_acc: 0.9830\n",
            "Epoch 16/20\n",
            "60000/60000 [==============================] - 8s 128us/step - loss: 0.0058 - acc: 0.9983 - val_loss: 0.1373 - val_acc: 0.9836\n",
            "Epoch 17/20\n",
            "60000/60000 [==============================] - 8s 128us/step - loss: 0.0066 - acc: 0.9983 - val_loss: 0.1438 - val_acc: 0.9815\n",
            "Epoch 18/20\n",
            "60000/60000 [==============================] - 8s 126us/step - loss: 0.0060 - acc: 0.9984 - val_loss: 0.1431 - val_acc: 0.9816\n",
            "Epoch 19/20\n",
            "60000/60000 [==============================] - 8s 125us/step - loss: 0.0044 - acc: 0.9989 - val_loss: 0.1469 - val_acc: 0.9807\n",
            "Epoch 20/20\n",
            "60000/60000 [==============================] - 7s 125us/step - loss: 0.0065 - acc: 0.9983 - val_loss: 0.1496 - val_acc: 0.9822\n"
          ],
          "name": "stdout"
        }
      ]
    },
    {
      "cell_type": "code",
      "metadata": {
        "id": "_VlW6Finuf3l",
        "colab_type": "code",
        "colab": {
          "base_uri": "https://localhost:8080/",
          "height": 51
        },
        "outputId": "2543806d-8316-46d2-867d-d0219459cba1"
      },
      "source": [
        "score = model.evaluate(x_test, y_test, verbose=0)\n",
        "print('Test loss:', score[0])\n",
        "print('Test accuracy:', score[1])"
      ],
      "execution_count": 19,
      "outputs": [
        {
          "output_type": "stream",
          "text": [
            "Test loss: 0.14962691610887327\n",
            "Test accuracy: 0.9822\n"
          ],
          "name": "stdout"
        }
      ]
    },
    {
      "cell_type": "code",
      "metadata": {
        "id": "W--LD7CvybTz",
        "colab_type": "code",
        "colab": {
          "base_uri": "https://localhost:8080/",
          "height": 496
        },
        "outputId": "6a8f4ea0-da38-4ad5-bc7b-d5847a88025a"
      },
      "source": [
        "#Plot the Loss Curves\n",
        "plt.figure(figsize=[7,3])\n",
        "plt.plot(history.history['loss'],'r',linewidth=2.0)\n",
        "plt.plot(history.history['val_loss'],'b',linewidth=2.0)\n",
        "plt.legend(['Training loss', 'Validation Loss'],fontsize=10)\n",
        "plt.xlabel('Epochs ',fontsize=15)\n",
        "plt.ylabel('Loss',fontsize=15)\n",
        "plt.title('Loss Curves',fontsize=15)\n",
        "\n",
        "#Plot the Accuracy Curves\n",
        "plt.figure(figsize=[7,3])\n",
        "plt.plot(history.history['acc'],'r',linewidth=2.0)\n",
        "plt.plot(history.history['val_acc'],'b',linewidth=2.0)\n",
        "plt.legend(['Training Accuracy', 'Validation Accuracy'],fontsize=10)\n",
        "plt.xlabel('Epochs ',fontsize=15)\n",
        "plt.ylabel('Accuracy',fontsize=15)\n",
        "plt.title('Accuracy Curves',fontsize=15)"
      ],
      "execution_count": 20,
      "outputs": [
        {
          "output_type": "execute_result",
          "data": {
            "text/plain": [
              "Text(0.5, 1.0, 'Accuracy Curves')"
            ]
          },
          "metadata": {
            "tags": []
          },
          "execution_count": 20
        },
        {
          "output_type": "display_data",
          "data": {
            "image/png": "[encoded data removed]",
            "text/plain": [
              "<Figure size 504x216 with 1 Axes>"
            ]
          },
          "metadata": {
            "tags": []
          }
        },
        {
          "output_type": "display_data",
          "data": {
            "image/png": "[encoded data removed]",
            "text/plain": [
              "<Figure size 504x216 with 1 Axes>"
            ]
          },
          "metadata": {
            "tags": []
          }
        }
      ]
    },
    {
      "cell_type": "code",
      "metadata": {
        "id": "Amggq0Sq3CAa",
        "colab_type": "code",
        "colab": {}
      },
      "source": [
        ""
      ],
      "execution_count": 0,
      "outputs": []
    }
  ]
}